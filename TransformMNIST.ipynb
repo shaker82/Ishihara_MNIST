{
 "cells": [
  {
   "cell_type": "markdown",
   "id": "ab8ce69e",
   "metadata": {
    "pycharm": {
     "name": "#%% md\n"
    }
   },
   "source": [
    "# Importing\n",
    "\n",
    "Import the necessary libraries"
   ]
  },
  {
   "cell_type": "code",
   "execution_count": null,
   "id": "b3b16b41",
   "metadata": {
    "pycharm": {
     "name": "#%%\n"
    }
   },
   "outputs": [],
   "source": [
    "import os\n",
    "from os.path import join\n",
    "\n",
    "import matplotlib.pyplot as plt\n",
    "import numpy as np\n",
    "import PIL.ImageOps\n",
    "from PIL import Image\n",
    "\n",
    "import IshiharaCreateSimDal as IshiDalton\n",
    "import IshiharaSimulate.plates as plates\n",
    "import IshiharaSimulate.utils as utils\n",
    "from IshiharaMC import ishiharaMC\n",
    "from PNGToSVG import pngtosvg"
   ]
  },
  {
   "cell_type": "markdown",
   "id": "23896f4e",
   "metadata": {
    "pycharm": {
     "name": "#%% md\n"
    }
   },
   "source": [
    "# Processing images\n",
    "\n",
    "Loading, converting to monochrome and then saving as SVG files"
   ]
  },
  {
   "cell_type": "code",
   "execution_count": null,
   "id": "33c45623",
   "metadata": {
    "pycharm": {
     "name": "#%%\n"
    }
   },
   "outputs": [],
   "source": [
    "old_file = os.getcwd() + os.sep + join(\"Tutorial\", \"TestData\", \"61.jpg\")\n",
    "new_file = os.getcwd() + os.sep + join(\"Tutorial\", \"Output\", \"61.svg\")\n",
    "\n",
    "# Loading,converting to monochrome and then saving as SVG files\n",
    "image = Image.open(old_file)\n",
    "image = PIL.ImageOps.invert(image)\n",
    "image = image.convert(\"1\").convert(\"RGBA\")\n",
    "svg_image = pngtosvg.rgba_image_to_svg_contiguous(image)\n",
    "with open(new_file, \"w\") as text_file:\n",
    "    text_file.write(svg_image)"
   ]
  },
  {
   "cell_type": "markdown",
   "id": "2a74acbb",
   "metadata": {
    "pycharm": {
     "name": "#%% md\n"
    }
   },
   "source": [
    "### Plot an example MNIST image"
   ]
  },
  {
   "cell_type": "code",
   "execution_count": null,
   "id": "4cac2ae7",
   "metadata": {
    "pycharm": {
     "name": "#%%\n"
    }
   },
   "outputs": [],
   "source": [
    "plt.figure(figsize=(4, 4))\n",
    "plt.imshow(image)"
   ]
  },
  {
   "cell_type": "markdown",
   "id": "81c8e5b2",
   "metadata": {
    "pycharm": {
     "name": "#%% md\n"
    }
   },
   "source": [
    "### Processing the paths and visualizing them"
   ]
  },
  {
   "cell_type": "code",
   "execution_count": null,
   "id": "a48c804f",
   "metadata": {
    "pycharm": {
     "name": "#%%\n"
    }
   },
   "outputs": [],
   "source": [
    "# Reading the file and considering only paths with mean RGB smaller than 50 (Black)\n",
    "path_strings, path_style = utils.get_d_style(new_file)\n",
    "paths = []\n",
    "black_index = []\n",
    "for p, s in zip(path_strings, path_style):\n",
    "    strip = utils.clean_strip(p)\n",
    "    paths += [strip]\n",
    "    if utils.get_mean_RGB(s) < 50:\n",
    "        black_index += [len(paths) - 1]\n",
    "\n",
    "# Normalizing the locations using the bounding box\n",
    "paths = utils.normaize_paths(paths)\n",
    "# Choosing only black paths\n",
    "paths = [paths[i] for i in black_index]\n",
    "# paths_org keeps the path hierarchy\n",
    "paths_org = paths\n",
    "# paths contains all paths unnested\n",
    "paths = [x1 for x in paths_org for x1 in x]"
   ]
  },
  {
   "cell_type": "code",
   "execution_count": null,
   "id": "9bc98dd9",
   "metadata": {
    "pycharm": {
     "name": "#%%\n"
    }
   },
   "outputs": [],
   "source": [
    "# plotting the paths in a simple way\n",
    "cols = [\"g\", \"r\", \"b\"]\n",
    "plt.figure(figsize=(4, 4))\n",
    "# plt.subplots()\n",
    "for i, path in enumerate(paths):\n",
    "    xs, ys = zip(*path)  # create lists of x and y values\n",
    "    plt.plot(xs, ys, color=cols[i], label=\"path \" + str(i + 1))\n",
    "\n",
    "plt.legend(loc=\"lower right\")\n",
    "plt.show()"
   ]
  },
  {
   "cell_type": "markdown",
   "id": "798714a1",
   "metadata": {
    "pycharm": {
     "name": "#%% md\n"
    }
   },
   "source": [
    "### Perfrom MC simulation with different radiuses\n",
    "\n",
    "Note: this may take a while"
   ]
  },
  {
   "cell_type": "code",
   "execution_count": null,
   "id": "522e912f",
   "metadata": {
    "pycharm": {
     "name": "#%%\n"
    }
   },
   "outputs": [],
   "source": [
    "output = np.array(\n",
    "    ishiharaMC.createPlate(paths, num=[4000, 2 * 4000, 4 * 4000, 8 * 4000])\n",
    ")"
   ]
  },
  {
   "cell_type": "code",
   "execution_count": null,
   "id": "64eda837",
   "metadata": {
    "pycharm": {
     "name": "#%%\n"
    }
   },
   "outputs": [],
   "source": [
    "idx = [[ishiharaMC.circinPoly(x1, output) for x1 in x] for x in paths_org]\n",
    "idx_new = []\n",
    "for i, arr in enumerate(idx):\n",
    "    if len(arr) == 1:\n",
    "        idx_new += [arr[0]]\n",
    "    else:\n",
    "        outer = utils.get_outer_path(paths_org[i])\n",
    "\n",
    "        temp = np.array([True] * arr[0].shape[0])\n",
    "        for x in arr[:outer] + arr[outer + 1 :]:\n",
    "            temp_or = np.logical_or(arr[outer], x)\n",
    "            temp_and = np.logical_and(arr[outer], x)\n",
    "            temp = np.logical_and(\n",
    "                temp, np.logical_and(temp_or, np.logical_not(temp_and))\n",
    "            )\n",
    "        idx_new += [temp]\n",
    "\n",
    "idx_final = idx_new[0]\n",
    "for x in idx_new[1:]:\n",
    "    idx_final = np.logical_or(idx_final, x)"
   ]
  },
  {
   "cell_type": "markdown",
   "id": "23bc2f2b",
   "metadata": {
    "pycharm": {
     "name": "#%% md\n"
    }
   },
   "source": [
    "### Plot Ishihara-style MNIST images\n",
    "\n",
    "Plot Ishihara-style MNIST images for the figure 8 with different colors and plates"
   ]
  },
  {
   "cell_type": "code",
   "execution_count": null,
   "id": "666b30f2",
   "metadata": {
    "pycharm": {
     "name": "#%%\n"
    }
   },
   "outputs": [],
   "source": [
    "plt.subplot(131)\n",
    "ishiharaMC.plotIshi(output[np.logical_not(idx_final)], color=\"w\")\n",
    "ishiharaMC.plotIshi(output[idx_final], color=\"k\")\n",
    "\n",
    "plt.subplot(132)\n",
    "ishiharaMC.plotIshi(output[np.logical_not(idx_final)], color=\"k\")\n",
    "ishiharaMC.plotIshi(output[idx_final], color=\"w\")\n",
    "\n",
    "plt.subplot(133)\n",
    "ishiharaMC.plotIshi(output[np.logical_not(idx_final)], color=\"g\")\n",
    "ishiharaMC.plotIshi(output[idx_final], color=\"r\")\n",
    "plt.show()"
   ]
  },
  {
   "cell_type": "markdown",
   "id": "ef71bf44",
   "metadata": {
    "pycharm": {
     "name": "#%% md\n"
    }
   },
   "source": [
    "### Plot Ishihara-style MNIST image (for Plate 1)"
   ]
  },
  {
   "cell_type": "code",
   "execution_count": null,
   "id": "2a10c1a7",
   "metadata": {
    "pycharm": {
     "name": "#%%\n"
    }
   },
   "outputs": [],
   "source": [
    "plates.plot_plate_generic(output, idx_final, plates.Plates_Dict[1])\n",
    "plt.show()"
   ]
  },
  {
   "cell_type": "markdown",
   "id": "5373d90e",
   "metadata": {
    "pycharm": {
     "name": "#%% md\n"
    }
   },
   "source": [
    "### Plot Ishihara-style MNIST images with all Ishihara plates + the baseline plates\n",
    "\n",
    "Plot Ishihara-style MNIST images for the figure 8 with all Ishihara plates + the baseline plates: only dots, only circles and random colors plate"
   ]
  },
  {
   "cell_type": "code",
   "execution_count": null,
   "id": "ffc88e24",
   "metadata": {
    "pycharm": {
     "name": "#%%\n"
    }
   },
   "outputs": [],
   "source": [
    "Plate_names = [\n",
    "    \"(a) Only dots\",\n",
    "    \"(b) Only circles\",\n",
    "    \"(c) Plate 1\",\n",
    "    \"(d) Plate 2\",\n",
    "    \"(e) Plate 3\",\n",
    "    \"(f) Plate 4\",\n",
    "    \"(g) Plate 5\",\n",
    "    \"(h) Plate 6\",\n",
    "    \"(i) Plate 7\",\n",
    "    \"(j) Plate 8\",\n",
    "    \"(k) Plate 9\",\n",
    "    \"(l) Plate 10\",\n",
    "    \"(m) Plate 11\",\n",
    "    \"(n) Plate 12\",\n",
    "    \"(o) Plate 13\",\n",
    "    \"(p) Plate 16\",\n",
    "    \"(q) Plate 17\",\n",
    "    \"(r) Random colors\",\n",
    "]\n",
    "\n",
    "plate_functions = [\n",
    "    plates.create_dots_img,\n",
    "    plates.create_circles_img,\n",
    "    plates.plot_plate_generic,\n",
    "    plates.plot_plate2,\n",
    "    plates.plot_plate3,\n",
    "    plates.plot_plate4,\n",
    "    plates.plot_plate5,\n",
    "    plates.plot_plate6,\n",
    "    plates.plot_plate7,\n",
    "    plates.plot_plate_generic,\n",
    "    plates.plot_plate_generic,\n",
    "    plates.plot_plate_generic,\n",
    "    plates.plot_plate_generic,\n",
    "    plates.plot_plate_generic,\n",
    "    plates.plot_plate_generic,\n",
    "    plates.plot_plate16_17,\n",
    "    plates.plot_plate16_17,\n",
    "]\n",
    "\n",
    "Plates_Dict_keys = [21, 20, 1, 2, 3, 4, 5, 6, 7, 8, 9, 10, 11, 12, 13, 16, 17]\n",
    "plt.subplots(figsize=(21, 42))\n",
    "for j, plate in enumerate(Plates_Dict_keys):\n",
    "    plt.subplot(6, 3, j + 1)\n",
    "    plate_functions[j](output, idx_final, plates.Plates_Dict[plate])\n",
    "    plt.xlabel(Plate_names[j], fontsize=24, labelpad=10)\n",
    "\n",
    "# Plotting the random colors\n",
    "plt.subplot(6, 3, 18)\n",
    "plt.xlabel(Plate_names[j + 1], fontsize=24, labelpad=10)\n",
    "\n",
    "plates.plot_plate_random_color(output, idx_final)"
   ]
  },
  {
   "cell_type": "markdown",
   "id": "42f03574",
   "metadata": {
    "pycharm": {
     "name": "#%% md\n"
    }
   },
   "source": [
    "### Ishihara-style MNIST images with manipulations "
   ]
  },
  {
   "cell_type": "code",
   "execution_count": null,
   "id": "f82e088f",
   "metadata": {
    "pycharm": {
     "name": "#%%\n"
    }
   },
   "outputs": [],
   "source": [
    "upper_half = lambda x: x[1] > 0\n",
    "right_half = lambda x: x[0] > 0\n",
    "above_line = lambda x: x[0] - x[1] < 0\n",
    "random15 = lambda x: np.random.random_sample() > 0.85\n",
    "XOR = lambda x: (x[0] > 0) ^ (x[1] > 0)\n",
    "chess_board = lambda x: (x[0] * 2 % 2 > 1) ^ (x[1] * 2 % 2 > 1)\n",
    "\n",
    "Manipulation_Functions = [\n",
    "    upper_half,\n",
    "    right_half,\n",
    "    above_line,\n",
    "    random15,\n",
    "    XOR,\n",
    "    chess_board,\n",
    "]"
   ]
  },
  {
   "cell_type": "code",
   "execution_count": null,
   "id": "04bfe3d1",
   "metadata": {
    "pycharm": {
     "name": "#%%\n"
    }
   },
   "outputs": [],
   "source": [
    "Plate_names = [\n",
    "    \"(a) Only dots\",\n",
    "    \"(b) Only circles\",\n",
    "    \"(c) Plate 1\",\n",
    "    \"(d) Plate 2\",\n",
    "    \"(e) Plate 4\",\n",
    "    \"(f) Plate 8\",\n",
    "    \"(g) Plate 10\",\n",
    "    \"(h) Plate 16\",\n",
    "    \"(i) Random colors\",\n",
    "]\n",
    "\n",
    "plate_functions = [\n",
    "    plates.create_dots_img,\n",
    "    plates.create_circles_img,\n",
    "    plates.plot_plate_generic,\n",
    "    plates.plot_plate2,\n",
    "    plates.plot_plate4,\n",
    "    plates.plot_plate_generic,\n",
    "    plates.plot_plate_generic,\n",
    "    plates.plot_plate16_17,\n",
    "]\n",
    "\n",
    "Plates_Dict_keys = [21, 20, 1, 2, 4, 8, 10, 16]\n",
    "plt.subplots(figsize=(21, 28))\n",
    "for j, plate in enumerate(Plates_Dict_keys):\n",
    "    plt.subplot(4, 3, j + 1)\n",
    "    # plt.axis('off')\n",
    "    plate_functions[j](output, idx_final, plates.Plates_Dict[plate])\n",
    "    # plt.title(Plate_names[j])\n",
    "    plt.xlabel(Plate_names[j], fontsize=24, labelpad=10)\n",
    "\n",
    "# Plotting the random colors\n",
    "plt.subplot(4, 3, 9)\n",
    "plt.xlabel(Plate_names[j + 1], fontsize=24, labelpad=10)\n",
    "plates.plot_plate_random_color(output, idx_final)\n",
    "\n",
    "##########################\n",
    "plt.subplot(4, 3, 10)\n",
    "above_line = lambda x: x[0] - x[1] < 0\n",
    "plates.plot_transform(\n",
    "    output, idx_final, above_line, plates.plot_plate_generic, plates.Plates_Dict[1]\n",
    ")\n",
    "plt.xlabel(\"(j) Flip above identity, plate 1\", fontsize=24, labelpad=10)\n",
    "\n",
    "##########################\n",
    "plt.subplot(4, 3, 11)\n",
    "chess_board = lambda x: (x[0] > 0) ^ (x[1] > 0)\n",
    "plates.plot_transform(\n",
    "    output, idx_final, chess_board, plates.plot_plate_generic, plates.Plates_Dict[4]\n",
    ")\n",
    "plt.xlabel(\"(k) Flip XOR, plate 4\", fontsize=24, labelpad=10)\n",
    "\n",
    "##########################\n",
    "# Sim 8 p\n",
    "types = {\n",
    "    1: None,\n",
    "    2: \"Sim_d\",\n",
    "    3: \"Sim_p\",\n",
    "    4: \"Sim_t\",\n",
    "    5: \"Dal_d\",\n",
    "    6: \"Dal_p\",\n",
    "    7: \"Dal_t\",\n",
    "}\n",
    "color_blindness = types[3][-1]\n",
    "new_plate = color_blindness\n",
    "folder = join(os.getcwd(), \"output_dir\")\n",
    "fname = os.getcwd() + os.sep + join(\"output_dir\", \"Plate_8_noaxis.png\")\n",
    "\n",
    "gamma = 2.4\n",
    "plt.subplot(4, 3, 12)\n",
    "image = IshiDalton.create_sim_colorblind_file(\n",
    "    fname, folder, new_plate, color_blindness, gamma, True\n",
    ")\n",
    "plt.imshow(image)\n",
    "plt.xlabel(\"(l) Simulate protanopia, plate 8\", fontsize=24, labelpad=10)\n",
    "##########################\n",
    "\n",
    "plt.show()"
   ]
  },
  {
   "cell_type": "markdown",
   "id": "7d65372a",
   "metadata": {
    "pycharm": {
     "name": "#%% md\n"
    }
   },
   "source": [
    "### Daltonize the figures and simulate color blindness plates"
   ]
  },
  {
   "cell_type": "code",
   "execution_count": null,
   "id": "7b63c18e",
   "metadata": {
    "pycharm": {
     "name": "#%%\n"
    }
   },
   "outputs": [],
   "source": [
    "Plate_names = [\n",
    "    \"(a) Horizontal, plate 1\",\n",
    "    \"(b) Vertical, plate 1\",\n",
    "    \"(c) Identity function, plate 1\",\n",
    "    \"(d) Random 15%, plate 1\",\n",
    "    \"(e) XOR, plate 1\",\n",
    "    \"(f) Chessboard, plate 1\",\n",
    "]\n",
    "plt.subplots(figsize=(21, 28))\n",
    "\n",
    "for j, man in enumerate(Manipulation_Functions):\n",
    "    plt.subplot(4, 3, j + 1)\n",
    "    plates.plot_transform(\n",
    "        output, idx_final, man, plates.plot_plate_generic, plates.Plates_Dict[1]\n",
    "    )\n",
    "    plt.xlabel(Plate_names[j], fontsize=24, labelpad=10)\n",
    "    ##########################\n",
    "type_names = [\"protanopia\", \"deuteranopia\", \"tritanopia\"]\n",
    "\n",
    "folder = join(os.getcwd(), \"output_dir\")\n",
    "fname = os.getcwd() + os.sep + join(\"output_dir\", \"Plate_8_noaxis.png\")\n",
    "\n",
    "gamma = 2.4\n",
    "types_short = [\"d\", \"p\", \"t\"]\n",
    "prefix = [\"(g) \", \"(h) \", \"(i) \"]\n",
    "\n",
    "for j, t in enumerate(types_short):\n",
    "    color_blindness = t\n",
    "    new_plate = color_blindness\n",
    "    plt.subplot(4, 3, 6 + j + 1)\n",
    "    image = IshiDalton.create_sim_colorblind_file(\n",
    "        fname, folder, new_plate, color_blindness, gamma, True\n",
    "    )\n",
    "    plt.imshow(image)\n",
    "    plt.xlabel(\n",
    "        prefix[j] + \"Simulate \" + type_names[j] + \", plate 8\", fontsize=24, labelpad=10\n",
    "    )\n",
    "    prefix = [\"(j) \", \"(k) \", \"(l) \"]\n",
    "\n",
    "for j, t in enumerate(types_short):\n",
    "    color_blindness = t\n",
    "    new_plate = color_blindness\n",
    "    plt.subplot(4, 3, 9 + j + 1)\n",
    "    image = IshiDalton.create_daltonize_colorblind_file(\n",
    "        fname, folder, new_plate, color_blindness, gamma, True\n",
    "    )\n",
    "    plt.imshow(image)\n",
    "    plt.xlabel(\n",
    "        prefix[j] + \"Daltonize \" + type_names[j] + \", plate 8\", fontsize=24, labelpad=10\n",
    "    )"
   ]
  },
  {
   "cell_type": "markdown",
   "id": "0daf8728",
   "metadata": {
    "pycharm": {
     "name": "#%% md\n"
    }
   },
   "source": [
    "### Example for generating plate with XOR transformation and Protanopia simulation plate"
   ]
  },
  {
   "cell_type": "code",
   "execution_count": null,
   "id": "75f882e7",
   "metadata": {
    "pycharm": {
     "name": "#%%\n"
    }
   },
   "outputs": [],
   "source": [
    "plt.subplots(figsize=(7, 7))\n",
    "plates.plot_transform(\n",
    "    output, idx_final, XOR, plates.plot_plate_generic, plates.Plates_Dict[1]\n",
    ")\n",
    "plt.xlabel(\"XOR_plate_1\", fontsize=24, labelpad=10)\n",
    "plt.subplots_adjust(left=0, bottom=0, right=1, top=1, wspace=0, hspace=0)\n",
    "\n",
    "##########################\n",
    "type_names = [\"protanopia\", \"deuteranopia\", \"tritanopia\"]\n",
    "folder = join(os.getcwd(), \"output_dir\")\n",
    "fname = os.getcwd() + os.sep + join(\"output_dir\", \"Plate_8_noaxis.png\")\n",
    "gamma = 2.4\n",
    "color_blindness = \"p\"\n",
    "new_plate = color_blindness\n",
    "plt.subplots(figsize=(7, 7))\n",
    "image = IshiDalton.create_sim_colorblind_file(\n",
    "    fname, folder, new_plate, color_blindness, gamma, True\n",
    ")\n",
    "plt.imshow(image)\n",
    "plt.xlabel(\"protanopia_plate_1\", fontsize=24, labelpad=10)\n",
    "plt.subplots_adjust(left=0, bottom=0, right=1, top=1, wspace=0, hspace=0)"
   ]
  },
  {
   "cell_type": "code",
   "execution_count": null,
   "id": "c4ef77d0",
   "metadata": {},
   "outputs": [],
   "source": [
    "#os.system('jupyter nbconvert --to html TransformMNIST.html')"
   ]
  }
 ],
 "metadata": {
  "kernelspec": {
   "display_name": "Python 3",
   "language": "python",
   "name": "python3"
  },
  "language_info": {
   "codemirror_mode": {
    "name": "ipython",
    "version": 3
   },
   "file_extension": ".py",
   "mimetype": "text/x-python",
   "name": "python",
   "nbconvert_exporter": "python",
   "pygments_lexer": "ipython3",
   "version": "3.6.13"
  },
  "toc-autonumbering": true,
  "toc-showcode": true,
  "toc-showmarkdowntxt": false,
  "toc-showtags": false
 },
 "nbformat": 4,
 "nbformat_minor": 5
}
